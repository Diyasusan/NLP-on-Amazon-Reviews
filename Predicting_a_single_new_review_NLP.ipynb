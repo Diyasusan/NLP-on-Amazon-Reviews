{
  "nbformat": 4,
  "nbformat_minor": 0,
  "metadata": {
    "colab": {
      "name": "Predicting a single new review NLP.ipynb",
      "provenance": [],
      "collapsed_sections": [],
      "toc_visible": true
    },
    "kernelspec": {
      "name": "python3",
      "display_name": "Python 3"
    }
  },
  "cells": [
    {
      "cell_type": "markdown",
      "metadata": {
        "id": "VwK5-9FIB-lu"
      },
      "source": [
        "# Natural Language Processing"
      ]
    },
    {
      "cell_type": "markdown",
      "metadata": {
        "id": "X1kiO9kACE6s"
      },
      "source": [
        "## Importing the libraries"
      ]
    },
    {
      "cell_type": "code",
      "metadata": {
        "id": "7QG7sxmoCIvN"
      },
      "source": [
        "import numpy as np\n",
        "import matplotlib.pyplot as plt\n",
        "import pandas as pd"
      ],
      "execution_count": null,
      "outputs": []
    },
    {
      "cell_type": "markdown",
      "metadata": {
        "id": "wTfaCIzdCLPA"
      },
      "source": [
        "## Importing the dataset"
      ]
    },
    {
      "cell_type": "code",
      "metadata": {
        "id": "UCK6vQ5QCQJe",
        "colab": {
          "base_uri": "https://localhost:8080/"
        },
        "outputId": "4d3d5e73-eb07-448f-80a2-cc9e23622085"
      },
      "source": [
        "from google.colab import drive\n",
        "drive.mount('/content/gdrive')\n",
        "dataset = pd.read_csv('/content/gdrive/MyDrive/Colab Notebooks/AmazonReview.csv')"
      ],
      "execution_count": null,
      "outputs": [
        {
          "output_type": "stream",
          "name": "stdout",
          "text": [
            "Mounted at /content/gdrive\n"
          ]
        }
      ]
    },
    {
      "cell_type": "markdown",
      "metadata": {
        "id": "Qekztq71CixT"
      },
      "source": [
        "## Cleaning the texts"
      ]
    },
    {
      "cell_type": "code",
      "metadata": {
        "id": "8u_yXh9dCmEE",
        "outputId": "45b5d65e-9756-4c26-abad-96eeb5cc6c38",
        "colab": {
          "base_uri": "https://localhost:8080/"
        }
      },
      "source": [
        "import re\n",
        "import nltk\n",
        "nltk.download('stopwords')\n",
        "from nltk.corpus import stopwords\n",
        "from nltk.stem.porter import PorterStemmer\n",
        "corpus = []\n",
        "for i in range(0, 990):\n",
        "  review = re.sub('[^a-zA-Z]', ' ', dataset['Review'][i])\n",
        "  review = review.lower()\n",
        "  review = review.split()\n",
        "  ps = PorterStemmer()\n",
        "  all_stopwords = stopwords.words('english')\n",
        "  all_stopwords.remove('not')\n",
        "  review = [ps.stem(word) for word in review if not word in set(all_stopwords)]\n",
        "  review = ' '.join(review)\n",
        "  corpus.append(review)"
      ],
      "execution_count": null,
      "outputs": [
        {
          "output_type": "stream",
          "name": "stderr",
          "text": [
            "[nltk_data] Downloading package stopwords to /root/nltk_data...\n",
            "[nltk_data]   Package stopwords is already up-to-date!\n"
          ]
        }
      ]
    },
    {
      "cell_type": "code",
      "metadata": {
        "id": "KpGWdrzGoAsL",
        "outputId": "a4a83203-b1c0-4f92-da79-86352d68723b",
        "colab": {
          "base_uri": "https://localhost:8080/"
        }
      },
      "source": [
        "print(corpus)"
      ],
      "execution_count": null,
      "outputs": [
        {
          "output_type": "stream",
          "name": "stdout",
          "text": [
            "['enjoy best ever spent', 'game changer', 'save skin', 'love cheaper walmart', 'vitamin c work well retinol', 'definit recommend', 'worth', 'yr old look thank vitaminc serum', 'dri skin', 'pleas buy destroy natur balanc great skin begin', 'unbeliev babi face', 'product awesom', 'amaz result skin brighten', 'truskin natur vitamin c serum must tri', 'good product', 'absolut addict serum', 'one week sold photo post', 'even put eye puf becam super itchi irrit', 'product real actual work real person not paid review someon compani', 'pleas read question color', 'hope reduc constant red get rid littl bump fine line pop year old face', 'amaz', 'excel skin serum formul', 'true realli true', 'vitamin c essenti good skin care regimen', 'buyer bewar', 'skin beauti', 'product work', 'amaz', 'import part regimen', 'holi grail', 'not updat', 'absolut wonder', 'glow', 'never leav review shown', 'perfect bottl', 'far good use week', 'c serum told good skin', 'product excel brighten skin without dri', 'amaz product', 'smell', 'final someth amaz', 'hesit', 'even skin tone better product ever use', 'worth sure', 'cloudi serum caus acn red itchi skin irrit around eye', 'not much improv skin', 'wow wow', 'give tri', 'favorit one thicker stay', 'producto recomendado realment funciona', 'lighten cystic acn scar effect', 'love product', 'need face', 'far good', 'updat', 'sensit skin need', 'realli work', 'work', 'best product ever', 'real life filter', 'smaller pore brighter skin', 'best serum world', 'truskin vitamin c serum face hyaluron acid vitamin e witch hazel fl oz', 'better high end brand', 'sold', 'wast money', 'el mejor producto', 'love', 'notic result week', 'say vitamin c', 'excelent', 'work wonder pore sebac filament aka grey dot nose check', 'tri everyth includ accur twice', 'made acn rage', 'amaz', 'consist perform', 'beauti serum realli work', 'repeat custom year', 'got hit today ha ha', 'clearer skin tone', 'wow realli work', 'look aliv', 'skin got wors truskin came rescu', 'glad found not make poor', 'great deal', 'new product not like old product', 'holi grail ladi', 'honestli blown away', 'skin feel smooth', 'stuff realli work', 'work', 'not good', 'ok way save skin', 'good result far', 'absolut amaz product actual work', 'chang skin care routin', 'awesom custom servic', 'made skin wors', 'good big name brand', 'best dark spot remov serum face', 'love product glad tri', 'tri week realli work', 'updat get applic', 'great qualiti serum sensit skin', 'great', 'ingredi bewar', 'actual feel better show real face', 'far happi result', 'full disclosur year old genet not wrinkl sag', 'love product', 'male like work', 'younger look skin', 'great serum great result', 'turn entir forehead cheek red blusteri', 'defect', 'great serum', 'effect not use edit filter pictur anymor', 'magic serum', 'save skin', 'amaz entir necessari product dri skin pleas read tip first love', 'reviv skin', 'feel see differ', 'super long honest unpaid review', 'great product amaz custom servic', 'buy face thank', 'holi grail', 'miracl', 'perfect yr old sensit face', 'healthier look', 'high qualiti afford skin care', 'face pocketbook love serum', 'final product work', 'love anti age serum', 'leav skin beauti glow', 'improv visibl', 'also notic reduct fine line wrinkl', 'walk confid', 'true skin', 'complet blown away even week yet', 'wait actual work', 'worth price', 'updat great custom servic', 'see glow', 'wow', 'great stuff', 'buy', 'eye not look good mine', 'realli work', 'not sensit skin edit', 'work well senstiv skin glow', 'pretti skeptic facial product', 'updat excel custom servic', 'truskin custom servic amaz', 'great product', 'dark spot wrinkl', 'glad found', 'great combo skin wish got money', 'fountain youth florida', 'begin work', 'get good', 'work ingredi bit suspect', 'one size not fit', 'work dark spot', 'start product end april final start see result love face clearer', 'honest', 'love bottl weird smell', 'work compani phenomen custom servic', 'truskin vitamin c work', 'chang skin', 'truskin vitamin c serum day done wonder skin textur tone', 'game changer', 'amaz product travel', 'visibl differ day', 'brighter smoother calmer skin help acn', 'repeat purchas', 'great result', 'brighten', 'far realli happi', 'adult acn decreas scar decreas', 'happi work', 'not amaz custom servic', 'great clear spot face', 'waooo', 'excel compani loyal custom life', 'best spend skincar routin', 'magic', 'amaz stuff', 'eh', 'best vitamin c serum reduc dark circl eye', 'exemplari custom servic exemplari product', 'excel appear health face', 'notic differ', 'work great brighten skin even textur', 'miracl skincar', 'longer wear foundat', 'wow look', 'loooooooooooov', 'wonder', 'awesom custom servic', 'pleas', 'order second bottl', 'not good compani good product', 'work great dri skin', 'magnific hook', 'great custom servic', 'best vitamin c serum', 'good qualiti serum great price', 'pay day', 'love serum compani', 'help brown splotch aka senil purpura arm', 'work like magic acn', 'angel skin treatment', 'hype real', 'realli realli work', 'gimmick realli work sold', 'best custom care', 'love', 'awesom product', 'felt qualiti skin improv less week', 'keep photo readi', 'ye', 'fantast', 'truli felt differ', 'work', 'keep buy stuff', 'love skincar line great result', 'great addit skincar routin', 'great acn mark scar p cloudi serum ok', 'love', 'great discoveri', 'amaz product', 'good skin type', 'excel custom servic', 'wow work', 'actual work', 'impress', 'great product', 'far great', 'great product', 'truskin work great skin lighter age spot healthi look skin', 'life changer', 'product amaz took two week', 'prone red patchi flare up see result month highli recommend', 'tighter skin younger look apper', 'worth everi penni', 'skincar game chang product must', 'best ever spent', 'advertis', 'work', 'wish taken photo', 'serum excel', 'without', 'skin hydrat elast boost real', 'holi grail', 'must get', 'live without', 'buy', 'honestli good', 'magic potion', 'nice serum', 'freak work', 'custom servic amaz', 'work asian oili combin skin', 'great', 'star amaz custom servic', 'excel custom servic disappoint product possibl knock', 'quick result', 'skin glow', 'tru skin natur truli care custom', 'realli work', 'ad regimen', 'great c serum', 'stellar custom servic', 'product realli work', 'absolut love', 'must buy even help dark circl swear', 'compani truli care custom', 'best skin product around', 'best vit c serum tri', 'work wonder pleas', 'bright skin even tone soft skin', 'worth hype', 'great valu', 'holi grail face product', 'great mask ne', 'skin sensit', 'black men serum work', 'bottl defect', 'wonder serum', 'love oili skin', 'imo better retin prescript hydroquinon', 'product work', 'best serum ever', 'best serum ever bought', 'life chang', 'great product great price', 'glow review', 'believ actual work', 'excel custom servic', 'truli work', 'promis', 'excel custom servic great product', 'vitamin c serum make differ', 'instantli notic differ happi custom servic', 'great serum', 'skin flawless', 'overal good buy', 'super help acn scar', 'lightweight great result within month', 'great serum', 'love', 'skin silki smooth', 'mira c le serum', 'best sell c serum', 'absolut love serum', 'make skin babi smooth', 'baggi eye dark circl gone', 'look like could foundat realli', 'buy', 'tri timeless banish seoul ceutic mani vitamin c brand', 'updat chang heart', 'amaz custom servic', 'decid take plung disappoint', 'skin improv', 'lightweight brighten amaz', 'new favorit product', 'brighten soften must skincar', 'recommend', 'best', 'perfect acn prone age skin', 'far like lot', 'must buy amaz skin care product deliv result', 'truskin better skin option', '', 'week decreas wrinkl significantli brighten skin', 'amaz', 'excel definit see improv', 'love serum', 'good price read', 'magic bottl', 'enjoy far', 'truskin best', 'forev custom', 'dramat improv african american medium brown skin', 'magic', 'wow factor exponenti form', 'exceed expect', 'get get right', 'brighten reviv dull skin', 'reorder product', 'work well', 'afraid tri someth new', 'amaz dark spot', 'glad find', 'happi made purchas', 'crepi neck', 'product amaz', 'must', 'stuff work wonder', 'blown away product custom servic hook life', 'miracl bottl', 'far awesom', 'much need serum', 'excel product', 'best product ever', 'absolut love', 'wonder custom servic', 'awesom product awesom compani', 'best ever', 'not', 'brighter smoother softer skin', 'second review still best vitamin c product use', 'add cart star', 'work', 'work', 'great product highli recommend', 'custom servic beyond', 'glad ad routin', 'like', 'love bought teenag', 'help melasma hyperpigment', 'glowi even skin', 'work dri skin', 'second time purchas', 'big differ', 'think good product', 'help smooth skin tone', 'magic hyperpigment reduct', 'skin look radiant', 'face never felt better well hydrat oil', 'amaz stuff', 'tri product', 'love', 'love', 'leav skin feel firm', 'see differ alreadi', 'five star', 'purchas stretchmark cure hyperpigment', 'life changer', 'good product', 'love product custom servic', 'new review happi happier', 'love brand', 'nice addit routin', 'great vitamin c', 'phenomen especi price', 'effect definit afford vitamin c serum', 'love', 'great product great compani', 'week far good', 'add skin care routin', 'must', 'love', 'show skin love', 'updat origin titl absolut wonder product wish', 'work', 'amaz product awesom custom servic', 'truli amaz result', 'seem make differ', 'pleas see far', 'order', 'fade spot', 'recommend', 'great compani', 'tri fade sunspot acn scar', 'ye', 'essenti part skin care routin', 'truskin natur product simpli amaz use', 'help red pore size sun spot', 'work', 'great product', 'realli work way say', 'tighten plump smooth', 'love truskin vitamin c serum', 'work well custom servic great', 'two week love', 'work great black women', 'work', 'black girl holi grail', 'miracl', 'not look hydrat', 'wow made big differ', 'face soft', 'believ', 'must tri', 'brilliantli beauti surpris', 'vitamin c', 'pretti amaz not gonna lie', 'excit', 'reach make sure pleas purchas question', 'miracl worker', 'great vitamin c serum surpris quickli work', 'make big differ skin', 'love', 'alreadi pleas way skin felt touch', 'great stuff bottl', 'need', 'serious help textur issu', 'acn red savior', 'surprisingli impress', 'sensit', 'oct', 'add photo', 'amaz product', 'use product daili', 'shock', 'work', 'best buy', 'rejuven skin', 'hesit one best product ever use', 'holi grail serum', 'great unexpect result', 'skin definit got better', 'skin chang', 'patient work', 'love love love serum great custom servic', 'wow', 'notic improv', 'great complexion', 'superb custom servic', 'great product good sensit skin', 'love serum', 'soak', 'miracl bottl', 'great price', 'skin look better week', 'realli give glow skin', 'bewar sensit skin', 'good expens brand', 'great choic', 'like', 'love love love', 'glad tri', 'amaz', 'love product', 'serious amaz stuff', 'not expect', 'face stop break', 'miracl product', 'love', 'make skin smooth hydrat', 'final someth realli work', 'saw buzzfe gave tri', 'day', 'best ever', 'worth hype', 'love serum', 'skin brighten tigthen', 'pleasantli surpris', 'stuff amazingli good', 'brighten', 'serious work clear skin', 'great buy', 'amaz product not cold weather', 'definit tighten skin', 'great moistur work miracl', 'time month though noral experi bad break out', 'custom servic', 'recommend tri', 'tri everyth noth work tri serum', 'differ', 'absolut amaz', 'small amount goe along way', 'flirti', 'use everi day oili skin', 'qualiti product', 'remov white cast sunblock', 'seem cure scali skin', 'acn prone adult skin fine line', 'made skin wors', 'consid buy', 'result obviou use daili short', 'love love', 'not peopl oili skin', 'absolut love use daili', 'realli work', 'great product', 'best serum face', 'pleasantli surpris good way', 'miracl bottl', 'wonder formula', 'great serum', 'chin acn gone yeast', 'seen improv within day time', 'great far', 'good sensit skin', 'realli great vitamin c serum', 'love stuff', 'alway purchas item', 'face lift littl bottl knew', 'updat review', 'updat bonu benefit', 'excel custom servic seller', 'left speechless love', 'dark spot remov', 'amaz', 'valu meet great result age skin sun spot fine line loss collag', 'holi grail must', 'skin smooth', 'not work', 'good dri sensit combin skin', 'remark refresh product liquid sunshin', 'serum work sensit skin', 'best custom servic around', 'great skincar brand', 'good thing come', 'get', 'feel like brand new skin', 'qualiti product', 'great product', 'best serum', 'great brighten dull skin larg pore', 'great stuff realli help stress acn', 'realli like', 'notic lighten effect fine not look', 'feel good make right choic', 'highli recommend', 'not skin type', 'top notch custom servic', 'excel custom servic', 'love much', 'red', 'great product', 'crepe neck sale', 'definit recommend stay consist', 'chang skin', 'truskin vitamin c serum', 'easi effect', 'far good', 'miracl serum', 'product amaz', 'satisfi', 'excel custom servic', 'skin look better', 'impress', 'real deal vitamin c serum', 'give serum tri', 'amaz vitamin c product done miracl skin', 'chang hand', 'realli work', 'absolut love', 'cruelti free vitamin c serum improv skin tone textur time', 'work', 'excel compani interest qualiti servic', 'good product', 'skin feel amaz', 'unscent', 'afford skin care product', 'great product', 'amaz oili skin', 'great product buy', 'effect', 'slight improv', 'realli get great skin', 'buy', 'worth give tri', 'surpris well work', 'realli like vitamin c serum', 'love serum', 'skin felt soft touch appli', 'hg', 'love', 'good correct red complexion', 'work quickli effect skin', 'amaz use year', 'start use twice day like said sinc alreadi use vit', 'awesom result', 'great custom servic', 'excel skin care product wear mask', 'wow', 'love', 'amaz product', 'best skeptic', 'recommend oili sensit skin', 'sincer prompt expert proven servic vitamin c serum must love love price', 'thing work dark mark scar', 'definit reorder', 'oh blow one', 'skin red decreas skin softer suppl', 'great custom servic', 'okuurrttttt', 'inexpens serum work', 'amaz product', 'vit c away wrinkl', 'great product good price point', 'absolut love love', 'definit recommend', 'serum feel good skin not sure', 'peopl compliment skin regularli', 'stapl', 'seem effect irrit skin', 'far good excel product price', 'even skin tone', 'outstand result', 'stapl good skin care routin', 'clear acn dri patch', 'exactli need', 'feel glow', 'topper came broken edit', 'second bottl', 'first disappoint want see overnight result', 'best skin year', 'help', 'convert clear red patchi skin week', 'struggl acn tri everyth proactiv murad neutrogena cliniqu rodan field', 'definit worth tri person love', 'love product', 'product amaz skin never look good', '', 'work slowli', 'amaz product', 'brighter skin', 'happi read review tri', 'dri skin', 'worth tri', 'bomb com', 'product week realli love way brighten soften skin', 'love realli work', 'best face serum', 'love say', 'life chang product', 'threw serum away', 'notic chang combin skin', 'good product', 'product make skin brighter glow even', 'erum work', 'reorder', 'excel custom servic', 'fluff face', 'love product', 'amaz', 'vitamin c serum face', 'wonder product must', 'love product', 'stumbl bless', 'great product good price', 'love way dri', 'great purchas', 'life chang vitamin c serum', 'excel product', 'great product', 'great product amaz custom servic', 'daili ritual skin care', 'favorit truskin product far', 'truli amaz product well worth money', 'scent free', 'face happi', 'great result', 'fantast product stellar custom servic', 'cancel ipl appoint longer need', 'skintast', 'worth', 'posit result week clear month', 'great vitamin c serum', 'wonder qualiti mayb not best fit sensit skin', 'go ahead buy gonna love', 'miracl', 'great moistur possibl dark spot', 'use', 'perfect daytim skin care routin', 'skin look wonder', 'made skin feel like silk', 'skeptic buy', 'must favorit face product', 'one', 'love product worth time write first ever review', 'help rosacea', 'slowli fade acn scar', 'best vitamin c serum avail market', 'wonder product', 'buy', 'skin look better', 'amaz product', 'tri love', 'amaz', 'even skin tone fresh look', 'wish could give product star qualiti product except custom servic', 'effect', 'week alreadi see differ', 'great vitamin c serum', 'work rosacea', 'everyth want', 'great product', 'better expect', 'longer sceptic', 'great product fantast custom servic', 'love', 'find anyth better', 'super impress', 'favorit vit c serum', 'awesom custom servic', 'start burn skin result flaki peel cheek', 'love serum', 'look good use product', 'great sensit skin', 'ye work', 'good qualiti great price', 'love', 'effect melasma spot', 'get soft skin', 'put everyth', 'great', 'work fast', 'love', 'silki smooth first use', 'great dryness', 'wonder product real result', 'qualiti product', 'best vitamin c serum tri', 'love', 'definit buy worth money', 'make skin brighter textur better', 'skin worth tri product', 'red blotchi skin', 'good product', 'updat review seller replac item', 'feel nice', 'look miracl skin care product', 'glow', 'unreal result', 'best purchas ever', 'work great', 'feel good skin unlik product', 'less oili skin', 'good stuff', 'great product', 'brown sunspot lighten', 'quit read review buy', 'visibl differ', 'good buy', 'absolut worth', 'not good dri skin', 'tri', 'realli work', 'tlc skin', 'great product great price amaz compani', 'love product custom life', 'great sensit acn prone skin', 'love stuff', 'amaz', 'great serum great servic', 'good neck skin tighten', 'gold bottl', 'happi tri product', 'work great skin', 'qualiti great custom servic', 'dri skin', 'nice serum brighten', 'good product', 'begin say much happi custom servic compani', 'keep skin look fresh', 'love product', 'holi grail', 'wonder product', 'like magic', 'use', 'wake face', 'felt like lost lotteri skin depart', 'tri new super serum', 'constant search product work like read review', 'impress serum', 'exceed expect x', 'work', 'dri patch face updat review', 'good', 'truli amaz product', 'face look healthi brighter', 'new skin bottl', 'serum actual work', 'found', 'saw result', 'seem work', 'still trial', 'scent not invit', 'definit go makeup free want', 'fade scar visibl clearer skin', 'stuff work', 'awesom product make skin even brighter', 'great product', 'nice find product say', 'fast result order product line', 'work good', 'amaz product', 'love serum', 'custom servic best ever seen', 'pretti nice', 'combin acn prone skin acn', 'vitamin c serum', 'result much expens serum', 'reduct spot lumin skin', 'work', 'awesom serum', 'magic elixir beauti', 'product work great', 'thing work maskn', 'must buy', 'inflamm', 'picki girl approv', 'go get beauti skin', 'amaz product stick see result', 'nice initi clump eek', 'love serum', 'transform skin', 'second bottl vitamin c serum', 'packag card contact inform nice rep name erica', 'amaz', 'made skin softer plump', 'realli great product honestli', 'refresh keep skin youth', 'live without', 'pleas product', 'sensit skin', 'smoother brighter tight', 'best vitamin c serum market', 'must suffer dark spot face', 'moistur serum', 'far good', 'someth smile', 'work', 'excel product custom servic', 'great product', 'love', 'love hydrat hyaluron acid', 'great skin', 'purchas base review', 'fantast vitamin c serum excel price', 'truli amaz', 'best thing ever', 'truskin vitamin c serum face', 'love stuff', 'good skin serum', 'help clear acn', 'fresher brighter skin', 'heal sooth smooth', 'must buy look high qualiti serum', 'good stuff', 'except product', 'consist key', 'disappoint product', 'skin glow', 'like would purchas', 'super nice vitamin c serum', 'afford amaz', 'great product skin', 'color correct benefit', 'impress result', 'great serum', 'love stuff', 'use super c serum even product love', 'lifetim custom qualiti product', 'far good order nd rd bottl', 'vitamin c serum wonder', 'expect much wrong good', 'serum', 'hand great product', 'feel great', 'skin tighten buy best ever spent', 'awesom product', 'good buy', 'nd bottl', 'sun spot gone', 'great especi sensit skin', 'probabl buy', 'worth star', 'amaz far', 'nice result', 'love stuff', 'skin not perfect even use week', 'nice', 'repeat purchas', 'miracl elixir', 'true believ truskin', 'buy impress', 'smooth silk', 'amaz', 'disappoint make purchas', 'stuff realli work', 'good addit skin care routin', 'great vitamin c serum', 'love serum', 'great', 'miracl bottl', 'best thing ive ever bought', 'genuin amaz', 'good product', 'wow fix skin', 'truli miracul', 'see result', 'skin brighten', 'soft', 'look want filter skin', 'wow', 'great vitamin c serum', 'start use far love result', 'awesom', 'love', 'work absorb quickli', 'whole famili use', 'chang formula', 'amaz product', 'restor moistur', 'love happi tri', 'sensit acn prone skin', 'red white acn buy nowwwww', 'buy regret', 'nice', 'love serum', 'love', 'love', 'sensit skin friendli', 'like product lot', 'great serum', 'great serum custom care', 'get', 'nice sensit skin allergi', 'hope work', 'love stuff', 'amaz product help hormon acn', 'life changer', 'excel', 'magic bottl', 'feel good skin', 'go', 'help pore pimpl', 'nice product', 'love love', 'botox bottl', 'definit notic better complexion', 'wonder product order vitamin c serum']\n"
          ]
        }
      ]
    },
    {
      "cell_type": "markdown",
      "metadata": {
        "id": "CLqmAkANCp1-"
      },
      "source": [
        "## Creating the Bag of Words model"
      ]
    },
    {
      "cell_type": "code",
      "metadata": {
        "id": "qroF7XcSCvY3"
      },
      "source": [
        "from sklearn.feature_extraction.text import CountVectorizer\n",
        "cv = CountVectorizer(max_features = 600)\n",
        "X = cv.fit_transform(corpus).toarray()\n",
        "y = dataset.iloc[:, -1].values"
      ],
      "execution_count": null,
      "outputs": []
    },
    {
      "cell_type": "markdown",
      "metadata": {
        "id": "DH_VjgPzC2cd"
      },
      "source": [
        "## Splitting the dataset into the Training set and Test set"
      ]
    },
    {
      "cell_type": "code",
      "metadata": {
        "id": "qQXYM5VzDDDI"
      },
      "source": [
        "from sklearn.model_selection import train_test_split\n",
        "X_train, X_test, y_train, y_test = train_test_split(X, y, test_size = 0.20, random_state = 0)"
      ],
      "execution_count": null,
      "outputs": []
    },
    {
      "cell_type": "markdown",
      "metadata": {
        "id": "VkIq23vEDIPt"
      },
      "source": [
        "## Training the Naive Bayes model on the Training set"
      ]
    },
    {
      "cell_type": "code",
      "metadata": {
        "id": "DS9oiDXXDRdI",
        "outputId": "5be79400-4e5f-488c-e5b8-761a532bc6c1",
        "colab": {
          "base_uri": "https://localhost:8080/"
        }
      },
      "source": [
        "from sklearn.naive_bayes import GaussianNB\n",
        "classifier = GaussianNB()\n",
        "classifier.fit(X_train, y_train)"
      ],
      "execution_count": null,
      "outputs": [
        {
          "output_type": "execute_result",
          "data": {
            "text/plain": [
              "GaussianNB()"
            ]
          },
          "metadata": {},
          "execution_count": 12
        }
      ]
    },
    {
      "cell_type": "markdown",
      "metadata": {
        "id": "1JaRM7zXDWUy"
      },
      "source": [
        "## Predicting the Test set results"
      ]
    },
    {
      "cell_type": "code",
      "metadata": {
        "id": "Iif0CVhFDaMp",
        "outputId": "27e7e71e-182a-486e-8b69-ce13fb8dc822",
        "colab": {
          "base_uri": "https://localhost:8080/"
        }
      },
      "source": [
        "y_pred = classifier.predict(X_test)\n",
        "print(np.concatenate((y_pred.reshape(len(y_pred),1), y_test.reshape(len(y_test),1)),1))"
      ],
      "execution_count": null,
      "outputs": [
        {
          "output_type": "stream",
          "name": "stdout",
          "text": [
            "[[1 1]\n",
            " [1 1]\n",
            " [1 1]\n",
            " [1 1]\n",
            " [1 0]\n",
            " [1 1]\n",
            " [1 1]\n",
            " [1 0]\n",
            " [1 1]\n",
            " [1 1]\n",
            " [1 1]\n",
            " [1 1]\n",
            " [1 1]\n",
            " [1 1]\n",
            " [1 1]\n",
            " [1 1]\n",
            " [1 1]\n",
            " [1 1]\n",
            " [1 1]\n",
            " [1 1]\n",
            " [1 1]\n",
            " [1 1]\n",
            " [1 1]\n",
            " [1 1]\n",
            " [1 1]\n",
            " [1 1]\n",
            " [1 1]\n",
            " [1 1]\n",
            " [1 1]\n",
            " [1 1]\n",
            " [1 1]\n",
            " [1 1]\n",
            " [1 1]\n",
            " [1 1]\n",
            " [1 1]\n",
            " [1 1]\n",
            " [1 1]\n",
            " [1 1]\n",
            " [1 1]\n",
            " [1 1]\n",
            " [0 1]\n",
            " [1 1]\n",
            " [1 1]\n",
            " [0 1]\n",
            " [0 1]\n",
            " [1 1]\n",
            " [1 1]\n",
            " [1 1]\n",
            " [1 1]\n",
            " [1 1]\n",
            " [1 1]\n",
            " [0 1]\n",
            " [1 1]\n",
            " [1 1]\n",
            " [1 1]\n",
            " [1 1]\n",
            " [1 1]\n",
            " [1 1]\n",
            " [1 1]\n",
            " [1 1]\n",
            " [1 1]\n",
            " [1 1]\n",
            " [0 1]\n",
            " [1 1]\n",
            " [1 1]\n",
            " [0 1]\n",
            " [1 1]\n",
            " [1 1]\n",
            " [1 1]\n",
            " [1 1]\n",
            " [1 1]\n",
            " [1 1]\n",
            " [1 1]\n",
            " [1 1]\n",
            " [1 1]\n",
            " [1 1]\n",
            " [1 1]\n",
            " [1 1]\n",
            " [1 1]\n",
            " [0 1]\n",
            " [1 1]\n",
            " [0 1]\n",
            " [1 1]\n",
            " [1 1]\n",
            " [1 1]\n",
            " [1 1]\n",
            " [1 1]\n",
            " [1 1]\n",
            " [1 1]\n",
            " [1 1]\n",
            " [1 1]\n",
            " [1 1]\n",
            " [1 1]\n",
            " [1 1]\n",
            " [1 1]\n",
            " [1 1]\n",
            " [1 1]\n",
            " [1 1]\n",
            " [1 1]\n",
            " [1 1]\n",
            " [1 1]\n",
            " [1 1]\n",
            " [1 1]\n",
            " [1 1]\n",
            " [1 1]\n",
            " [1 1]\n",
            " [1 1]\n",
            " [1 1]\n",
            " [1 1]\n",
            " [1 1]\n",
            " [1 1]\n",
            " [0 1]\n",
            " [1 1]\n",
            " [1 1]\n",
            " [1 1]\n",
            " [1 1]\n",
            " [1 1]\n",
            " [1 1]\n",
            " [1 1]\n",
            " [1 1]\n",
            " [1 1]\n",
            " [1 1]\n",
            " [1 1]\n",
            " [1 1]\n",
            " [1 1]\n",
            " [1 1]\n",
            " [1 1]\n",
            " [1 0]\n",
            " [1 1]\n",
            " [1 1]\n",
            " [1 1]\n",
            " [0 1]\n",
            " [1 1]\n",
            " [0 1]\n",
            " [1 1]\n",
            " [1 1]\n",
            " [1 1]\n",
            " [1 1]\n",
            " [1 1]\n",
            " [1 1]\n",
            " [1 1]\n",
            " [1 1]\n",
            " [1 1]\n",
            " [1 1]\n",
            " [1 1]\n",
            " [1 1]\n",
            " [1 1]\n",
            " [1 1]\n",
            " [1 1]\n",
            " [1 1]\n",
            " [1 1]\n",
            " [1 1]\n",
            " [1 1]\n",
            " [1 1]\n",
            " [0 1]\n",
            " [1 1]\n",
            " [1 1]\n",
            " [1 1]\n",
            " [1 1]\n",
            " [0 1]\n",
            " [1 1]\n",
            " [1 1]\n",
            " [1 1]\n",
            " [1 1]\n",
            " [1 1]\n",
            " [1 1]\n",
            " [1 1]\n",
            " [1 1]\n",
            " [1 1]\n",
            " [1 1]\n",
            " [1 1]\n",
            " [1 1]\n",
            " [1 1]\n",
            " [1 1]\n",
            " [1 1]\n",
            " [1 1]\n",
            " [1 1]\n",
            " [1 1]\n",
            " [1 1]\n",
            " [1 1]\n",
            " [1 1]\n",
            " [0 1]\n",
            " [1 1]\n",
            " [1 1]\n",
            " [1 1]\n",
            " [1 1]\n",
            " [1 1]\n",
            " [1 1]\n",
            " [1 1]\n",
            " [1 1]\n",
            " [1 1]\n",
            " [1 1]\n",
            " [1 1]\n",
            " [0 1]\n",
            " [1 1]\n",
            " [1 1]\n",
            " [1 1]\n",
            " [1 1]]\n"
          ]
        }
      ]
    },
    {
      "cell_type": "markdown",
      "metadata": {
        "id": "xoMltea5Dir1"
      },
      "source": [
        "## Making the Confusion Matrix"
      ]
    },
    {
      "cell_type": "code",
      "metadata": {
        "id": "Xj9IU6MxDnvo",
        "outputId": "2b3c5c40-1723-40ce-f064-3aad168aa6d9",
        "colab": {
          "base_uri": "https://localhost:8080/"
        }
      },
      "source": [
        "from sklearn.metrics import confusion_matrix, accuracy_score\n",
        "cm = confusion_matrix(y_test, y_pred)\n",
        "print(cm)\n",
        "accuracy_score(y_test, y_pred)"
      ],
      "execution_count": null,
      "outputs": [
        {
          "output_type": "stream",
          "name": "stdout",
          "text": [
            "[[  0   3]\n",
            " [ 15 180]]\n"
          ]
        },
        {
          "output_type": "execute_result",
          "data": {
            "text/plain": [
              "0.9090909090909091"
            ]
          },
          "metadata": {},
          "execution_count": 14
        }
      ]
    },
    {
      "cell_type": "code",
      "metadata": {
        "id": "to1ulY294zZv",
        "outputId": "37b567a9-1e1a-41ec-e204-e2bbfff66eba",
        "colab": {
          "base_uri": "https://localhost:8080/"
        }
      },
      "source": [
        "print(X_test)"
      ],
      "execution_count": null,
      "outputs": [
        {
          "output_type": "stream",
          "name": "stdout",
          "text": [
            "[[0 0 0 ... 0 0 0]\n",
            " [0 0 0 ... 0 0 0]\n",
            " [0 0 0 ... 0 0 0]\n",
            " ...\n",
            " [0 0 0 ... 0 0 0]\n",
            " [0 0 0 ... 0 0 0]\n",
            " [0 0 0 ... 0 0 0]]\n"
          ]
        }
      ]
    },
    {
      "cell_type": "markdown",
      "metadata": {
        "id": "NZcOJH_x9GSV"
      },
      "source": [
        "## Predicting if a single review is positive or negative"
      ]
    },
    {
      "cell_type": "markdown",
      "metadata": {
        "id": "4CiVD7lB-G4E"
      },
      "source": [
        "### Positive review"
      ]
    },
    {
      "cell_type": "markdown",
      "metadata": {
        "id": "P1o_pwhj9f3x"
      },
      "source": [
        "Use our model to predict if the following review:\n",
        "\n",
        "\"I love this restaurant so much\"\n",
        "\n",
        "is positive or negative."
      ]
    },
    {
      "cell_type": "markdown",
      "metadata": {
        "id": "hIPHW4zVEvKC"
      },
      "source": [
        "**Solution:** We just repeat the same text preprocessing process we did before, but this time with a single review."
      ]
    },
    {
      "cell_type": "code",
      "metadata": {
        "id": "4-jZEzWD49su",
        "outputId": "318c80f9-45ed-492b-9bd4-21438e62c97a",
        "colab": {
          "base_uri": "https://localhost:8080/"
        }
      },
      "source": [
        "new_review = 'I love this restaurant so much'\n",
        "new_review = re.sub('[^a-zA-Z]', ' ', new_review)\n",
        "new_review = new_review.lower()\n",
        "new_review = new_review.split()\n",
        "ps = PorterStemmer()\n",
        "all_stopwords = stopwords.words('english')\n",
        "all_stopwords.remove('not')\n",
        "new_review = [ps.stem(word) for word in new_review if not word in set(all_stopwords)]\n",
        "new_review = ' '.join(new_review)\n",
        "new_corpus = [new_review]\n",
        "new_X_test = cv.transform(new_corpus).toarray()\n",
        "new_y_pred = classifier.predict(new_X_test)\n",
        "print(new_y_pred)"
      ],
      "execution_count": null,
      "outputs": [
        {
          "output_type": "stream",
          "name": "stdout",
          "text": [
            "[1]\n"
          ]
        }
      ]
    },
    {
      "cell_type": "markdown",
      "metadata": {
        "id": "Rkorcoxm93kP"
      },
      "source": [
        "The review was correctly predicted as positive by our model."
      ]
    },
    {
      "cell_type": "markdown",
      "metadata": {
        "id": "9qztXT-i-K1j"
      },
      "source": [
        "### Negative review"
      ]
    },
    {
      "cell_type": "markdown",
      "metadata": {
        "id": "cesW_qiH-CO0"
      },
      "source": [
        "Use our model to predict if the following review:\n",
        "\n",
        "\"I hate this restaurant.\"\n",
        "\n",
        "is positive or negative."
      ]
    },
    {
      "cell_type": "markdown",
      "metadata": {
        "id": "X1DsvzmVE9EK"
      },
      "source": [
        "**Solution:** We just repeat the same text preprocessing process we did before, but this time with a single review."
      ]
    },
    {
      "cell_type": "code",
      "metadata": {
        "id": "ySAblyR98J2s",
        "outputId": "699240fe-bd35-445a-ef12-3a804bd7d163",
        "colab": {
          "base_uri": "https://localhost:8080/"
        }
      },
      "source": [
        "new_review = 'I hate this restaurant'\n",
        "new_review = re.sub('[^a-zA-Z]', ' ', new_review)\n",
        "new_review = new_review.lower()\n",
        "new_review = new_review.split()\n",
        "ps = PorterStemmer()\n",
        "all_stopwords = stopwords.words('english')\n",
        "all_stopwords.remove('not')\n",
        "new_review = [ps.stem(word) for word in new_review if not word in set(all_stopwords)]\n",
        "new_review = ' '.join(new_review)\n",
        "new_corpus = [new_review]\n",
        "new_X_test = cv.transform(new_corpus).toarray()\n",
        "new_y_pred = classifier.predict(new_X_test)\n",
        "print(new_y_pred)"
      ],
      "execution_count": null,
      "outputs": [
        {
          "output_type": "stream",
          "name": "stdout",
          "text": [
            "[0]\n"
          ]
        }
      ]
    },
    {
      "cell_type": "markdown",
      "metadata": {
        "id": "d72teliY-PUQ"
      },
      "source": [
        "The review was correctly predicted as negative by our model."
      ]
    }
  ]
}